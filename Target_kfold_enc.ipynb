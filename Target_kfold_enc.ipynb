{
  "nbformat": 4,
  "nbformat_minor": 0,
  "metadata": {
    "colab": {
      "name": "Target_kfold_enc.ipynb",
      "provenance": [],
      "collapsed_sections": [],
      "authorship_tag": "ABX9TyNvb9p0sSuliOYhBtSOUqaY",
      "include_colab_link": true
    },
    "kernelspec": {
      "name": "python3",
      "display_name": "Python 3"
    },
    "language_info": {
      "name": "python"
    }
  },
  "cells": [
    {
      "cell_type": "markdown",
      "metadata": {
        "id": "view-in-github",
        "colab_type": "text"
      },
      "source": [
        "<a href=\"https://colab.research.google.com/github/kamalzada/target_encoding/blob/master/Target_kfold_enc.ipynb\" target=\"_parent\"><img src=\"https://colab.research.google.com/assets/colab-badge.svg\" alt=\"Open In Colab\"/></a>"
      ]
    },
    {
      "cell_type": "markdown",
      "source": [
        "Target Encoding with Cross Validation: Alternative to One-hot-encoding"
      ],
      "metadata": {
        "id": "wFPSZqRLtvYz"
      }
    },
    {
      "cell_type": "code",
      "source": [
        "from copy import deepcopy\n",
        "import pandas as pd\n",
        "import numpy as np\n",
        "from sklearn import base\n",
        "from sklearn.model_selection import train_test_split \n",
        "from sklearn.model_selection import KFold"
      ],
      "metadata": {
        "id": "vo-Yh_6C9x14"
      },
      "execution_count": 2,
      "outputs": []
    },
    {
      "cell_type": "code",
      "execution_count": 103,
      "metadata": {
        "id": "jFaopOMN8801"
      },
      "outputs": [],
      "source": [
        "raw = pd.read_csv('hotelbookingsinfo.csv', usecols=['reserved_room_type', 'leadtime'])\n",
        "df = deepcopy(raw) "
      ]
    },
    {
      "cell_type": "code",
      "source": [
        "df['reserved_room_type'].nunique() "
      ],
      "metadata": {
        "colab": {
          "base_uri": "https://localhost:8080/"
        },
        "id": "lqh3Aotc91dl",
        "outputId": "2d564cb0-cc8b-4008-bb2c-dacea63fba91"
      },
      "execution_count": 104,
      "outputs": [
        {
          "output_type": "execute_result",
          "data": {
            "text/plain": [
              "10"
            ]
          },
          "metadata": {},
          "execution_count": 104
        }
      ]
    },
    {
      "cell_type": "code",
      "source": [
        "df['leadtime'] #target "
      ],
      "metadata": {
        "colab": {
          "base_uri": "https://localhost:8080/"
        },
        "id": "fkBozmlh-L84",
        "outputId": "bfc2c43b-0523-43a4-f792-f180842b4757"
      },
      "execution_count": 5,
      "outputs": [
        {
          "output_type": "execute_result",
          "data": {
            "text/plain": [
              "0         342\n",
              "1         737\n",
              "2           7\n",
              "3          13\n",
              "4          14\n",
              "         ... \n",
              "119385     23\n",
              "119386    102\n",
              "119387     34\n",
              "119388    109\n",
              "119389    205\n",
              "Name: leadtime, Length: 119390, dtype: int64"
            ]
          },
          "metadata": {},
          "execution_count": 5
        }
      ]
    },
    {
      "cell_type": "code",
      "source": [
        "table = pd.pivot_table(data=df, index='reserved_room_type', aggfunc=[np.mean, 'count'])\n",
        "table #checking the ones to be encoded "
      ],
      "metadata": {
        "colab": {
          "base_uri": "https://localhost:8080/",
          "height": 426
        },
        "id": "Dt0s3U6hFwFz",
        "outputId": "2a385f98-647c-4d92-b005-b599ee2d37a7"
      },
      "execution_count": 105,
      "outputs": [
        {
          "output_type": "execute_result",
          "data": {
            "text/plain": [
              "                          mean    count\n",
              "                      leadtime leadtime\n",
              "reserved_room_type                     \n",
              "A                   110.940240    85994\n",
              "B                   113.268336     1118\n",
              "C                    80.173820      932\n",
              "D                    86.829488    19201\n",
              "E                    91.121500     6535\n",
              "F                    68.529168     2897\n",
              "G                    80.248329     2094\n",
              "H                    78.387687      601\n",
              "L                     0.000000        6\n",
              "P                     0.000000       12"
            ],
            "text/html": [
              "\n",
              "  <div id=\"df-f224ffa8-b2ab-481f-bcf3-31cac9137060\">\n",
              "    <div class=\"colab-df-container\">\n",
              "      <div>\n",
              "<style scoped>\n",
              "    .dataframe tbody tr th:only-of-type {\n",
              "        vertical-align: middle;\n",
              "    }\n",
              "\n",
              "    .dataframe tbody tr th {\n",
              "        vertical-align: top;\n",
              "    }\n",
              "\n",
              "    .dataframe thead tr th {\n",
              "        text-align: left;\n",
              "    }\n",
              "\n",
              "    .dataframe thead tr:last-of-type th {\n",
              "        text-align: right;\n",
              "    }\n",
              "</style>\n",
              "<table border=\"1\" class=\"dataframe\">\n",
              "  <thead>\n",
              "    <tr>\n",
              "      <th></th>\n",
              "      <th>mean</th>\n",
              "      <th>count</th>\n",
              "    </tr>\n",
              "    <tr>\n",
              "      <th></th>\n",
              "      <th>leadtime</th>\n",
              "      <th>leadtime</th>\n",
              "    </tr>\n",
              "    <tr>\n",
              "      <th>reserved_room_type</th>\n",
              "      <th></th>\n",
              "      <th></th>\n",
              "    </tr>\n",
              "  </thead>\n",
              "  <tbody>\n",
              "    <tr>\n",
              "      <th>A</th>\n",
              "      <td>110.940240</td>\n",
              "      <td>85994</td>\n",
              "    </tr>\n",
              "    <tr>\n",
              "      <th>B</th>\n",
              "      <td>113.268336</td>\n",
              "      <td>1118</td>\n",
              "    </tr>\n",
              "    <tr>\n",
              "      <th>C</th>\n",
              "      <td>80.173820</td>\n",
              "      <td>932</td>\n",
              "    </tr>\n",
              "    <tr>\n",
              "      <th>D</th>\n",
              "      <td>86.829488</td>\n",
              "      <td>19201</td>\n",
              "    </tr>\n",
              "    <tr>\n",
              "      <th>E</th>\n",
              "      <td>91.121500</td>\n",
              "      <td>6535</td>\n",
              "    </tr>\n",
              "    <tr>\n",
              "      <th>F</th>\n",
              "      <td>68.529168</td>\n",
              "      <td>2897</td>\n",
              "    </tr>\n",
              "    <tr>\n",
              "      <th>G</th>\n",
              "      <td>80.248329</td>\n",
              "      <td>2094</td>\n",
              "    </tr>\n",
              "    <tr>\n",
              "      <th>H</th>\n",
              "      <td>78.387687</td>\n",
              "      <td>601</td>\n",
              "    </tr>\n",
              "    <tr>\n",
              "      <th>L</th>\n",
              "      <td>0.000000</td>\n",
              "      <td>6</td>\n",
              "    </tr>\n",
              "    <tr>\n",
              "      <th>P</th>\n",
              "      <td>0.000000</td>\n",
              "      <td>12</td>\n",
              "    </tr>\n",
              "  </tbody>\n",
              "</table>\n",
              "</div>\n",
              "      <button class=\"colab-df-convert\" onclick=\"convertToInteractive('df-f224ffa8-b2ab-481f-bcf3-31cac9137060')\"\n",
              "              title=\"Convert this dataframe to an interactive table.\"\n",
              "              style=\"display:none;\">\n",
              "        \n",
              "  <svg xmlns=\"http://www.w3.org/2000/svg\" height=\"24px\"viewBox=\"0 0 24 24\"\n",
              "       width=\"24px\">\n",
              "    <path d=\"M0 0h24v24H0V0z\" fill=\"none\"/>\n",
              "    <path d=\"M18.56 5.44l.94 2.06.94-2.06 2.06-.94-2.06-.94-.94-2.06-.94 2.06-2.06.94zm-11 1L8.5 8.5l.94-2.06 2.06-.94-2.06-.94L8.5 2.5l-.94 2.06-2.06.94zm10 10l.94 2.06.94-2.06 2.06-.94-2.06-.94-.94-2.06-.94 2.06-2.06.94z\"/><path d=\"M17.41 7.96l-1.37-1.37c-.4-.4-.92-.59-1.43-.59-.52 0-1.04.2-1.43.59L10.3 9.45l-7.72 7.72c-.78.78-.78 2.05 0 2.83L4 21.41c.39.39.9.59 1.41.59.51 0 1.02-.2 1.41-.59l7.78-7.78 2.81-2.81c.8-.78.8-2.07 0-2.86zM5.41 20L4 18.59l7.72-7.72 1.47 1.35L5.41 20z\"/>\n",
              "  </svg>\n",
              "      </button>\n",
              "      \n",
              "  <style>\n",
              "    .colab-df-container {\n",
              "      display:flex;\n",
              "      flex-wrap:wrap;\n",
              "      gap: 12px;\n",
              "    }\n",
              "\n",
              "    .colab-df-convert {\n",
              "      background-color: #E8F0FE;\n",
              "      border: none;\n",
              "      border-radius: 50%;\n",
              "      cursor: pointer;\n",
              "      display: none;\n",
              "      fill: #1967D2;\n",
              "      height: 32px;\n",
              "      padding: 0 0 0 0;\n",
              "      width: 32px;\n",
              "    }\n",
              "\n",
              "    .colab-df-convert:hover {\n",
              "      background-color: #E2EBFA;\n",
              "      box-shadow: 0px 1px 2px rgba(60, 64, 67, 0.3), 0px 1px 3px 1px rgba(60, 64, 67, 0.15);\n",
              "      fill: #174EA6;\n",
              "    }\n",
              "\n",
              "    [theme=dark] .colab-df-convert {\n",
              "      background-color: #3B4455;\n",
              "      fill: #D2E3FC;\n",
              "    }\n",
              "\n",
              "    [theme=dark] .colab-df-convert:hover {\n",
              "      background-color: #434B5C;\n",
              "      box-shadow: 0px 1px 3px 1px rgba(0, 0, 0, 0.15);\n",
              "      filter: drop-shadow(0px 1px 2px rgba(0, 0, 0, 0.3));\n",
              "      fill: #FFFFFF;\n",
              "    }\n",
              "  </style>\n",
              "\n",
              "      <script>\n",
              "        const buttonEl =\n",
              "          document.querySelector('#df-f224ffa8-b2ab-481f-bcf3-31cac9137060 button.colab-df-convert');\n",
              "        buttonEl.style.display =\n",
              "          google.colab.kernel.accessAllowed ? 'block' : 'none';\n",
              "\n",
              "        async function convertToInteractive(key) {\n",
              "          const element = document.querySelector('#df-f224ffa8-b2ab-481f-bcf3-31cac9137060');\n",
              "          const dataTable =\n",
              "            await google.colab.kernel.invokeFunction('convertToInteractive',\n",
              "                                                     [key], {});\n",
              "          if (!dataTable) return;\n",
              "\n",
              "          const docLinkHtml = 'Like what you see? Visit the ' +\n",
              "            '<a target=\"_blank\" href=https://colab.research.google.com/notebooks/data_table.ipynb>data table notebook</a>'\n",
              "            + ' to learn more about interactive tables.';\n",
              "          element.innerHTML = '';\n",
              "          dataTable['output_type'] = 'display_data';\n",
              "          await google.colab.output.renderOutput(dataTable, element);\n",
              "          const docLink = document.createElement('div');\n",
              "          docLink.innerHTML = docLinkHtml;\n",
              "          element.appendChild(docLink);\n",
              "        }\n",
              "      </script>\n",
              "    </div>\n",
              "  </div>\n",
              "  "
            ]
          },
          "metadata": {},
          "execution_count": 105
        }
      ]
    },
    {
      "cell_type": "code",
      "source": [
        "df = df.loc[(df['reserved_room_type']!='L') & (df['reserved_room_type']!='P')] "
      ],
      "metadata": {
        "id": "Wi3pt-oNGA-C"
      },
      "execution_count": 106,
      "outputs": []
    },
    {
      "cell_type": "code",
      "source": [
        "X = df.drop('leadtime', axis=1) \n",
        "y = df.leadtime\n",
        "X_train, X_test, y_train, y_test = train_test_split(X, y, test_size=0.20, random_state=29) #to prevent data leakage"
      ],
      "metadata": {
        "id": "E8dBL4my-jg9"
      },
      "execution_count": 107,
      "outputs": []
    },
    {
      "cell_type": "code",
      "source": [
        "X_train['reserved_room_type'].value_counts()"
      ],
      "metadata": {
        "colab": {
          "base_uri": "https://localhost:8080/"
        },
        "id": "U1QRSM75mazq",
        "outputId": "43bd8166-cabe-44fa-ab78-a9b5a2adb8ff"
      },
      "execution_count": 108,
      "outputs": [
        {
          "output_type": "execute_result",
          "data": {
            "text/plain": [
              "A    68836\n",
              "D    15311\n",
              "E     5262\n",
              "F     2282\n",
              "G     1687\n",
              "B      888\n",
              "C      747\n",
              "H      484\n",
              "Name: reserved_room_type, dtype: int64"
            ]
          },
          "metadata": {},
          "execution_count": 108
        }
      ]
    },
    {
      "cell_type": "code",
      "source": [
        "X_test['reserved_room_type'].value_counts() #split"
      ],
      "metadata": {
        "colab": {
          "base_uri": "https://localhost:8080/"
        },
        "id": "rVeJ0wRm--es",
        "outputId": "2657c0b7-35b6-4b78-c1c8-3e2c0e95c638"
      },
      "execution_count": 109,
      "outputs": [
        {
          "output_type": "execute_result",
          "data": {
            "text/plain": [
              "A    17158\n",
              "D     3890\n",
              "E     1273\n",
              "F      615\n",
              "G      407\n",
              "B      230\n",
              "C      185\n",
              "H      117\n",
              "Name: reserved_room_type, dtype: int64"
            ]
          },
          "metadata": {},
          "execution_count": 109
        }
      ]
    },
    {
      "cell_type": "code",
      "source": [
        "df_train = pd.concat([X_train, y_train], axis=1)\n",
        "df_test = pd.concat([X_test, y_test], axis=1)"
      ],
      "metadata": {
        "id": "sh-7JB6iD4lz"
      },
      "execution_count": 110,
      "outputs": []
    },
    {
      "cell_type": "code",
      "source": [
        "class KFoldTargetEncoderTrain(base.BaseEstimator, base.TransformerMixin):\n",
        "   \n",
        "    def __init__(self,colnames,targetName,\n",
        "                  n_fold=5, verbosity=False,\n",
        "                  discardOriginal_col=True):\n",
        "        self.colnames = colnames\n",
        "        self.targetName = targetName\n",
        "        self.n_fold = n_fold\n",
        "        self.verbosity = verbosity\n",
        "        self.discardOriginal_col = discardOriginal_col\n",
        "        \n",
        "    def fit(self, X, y=None):\n",
        "        return self\n",
        "    \n",
        "    def transform(self,X):        \n",
        "        assert(type(self.targetName) == str)\n",
        "        assert(type(self.colnames) == str)\n",
        "        assert(self.colnames in X.columns)\n",
        "        assert(self.targetName in X.columns)       \n",
        "        \n",
        "        mean_of_target = X[self.targetName].mean()\n",
        "        kf = KFold(n_splits = self.n_fold,\n",
        "                   shuffle = True)        \n",
        "        col_mean_name = self.colnames + '_' + 'Kfold_Target_Enc'\n",
        "        X[col_mean_name] = np.nan       \n",
        "        \n",
        "        for tr_ind, val_ind in kf.split(X):\n",
        "            X_tr, X_val = X.iloc[tr_ind], X.iloc[val_ind]\n",
        "            X.loc[X.index[val_ind], col_mean_name] = X_val[self.colnames].map(X_tr.groupby(self.colnames)[self.targetName].mean())\n",
        "            X[col_mean_name].fillna(mean_of_target, inplace = True)  #Fill in the place that has become nan with the global mean\n",
        "            \n",
        "        if self.verbosity:            \n",
        "            encoded_feature = X[col_mean_name].values\n",
        "            print('Correlation between the new feature, {} and, {} is {}.'.format(col_mean_name,self.targetName, \n",
        "                                                                                  np.corrcoef(X[self.targetName].values,encoded_feature)[0][1]))\n",
        "        if self.discardOriginal_col:\n",
        "            X = X.drop(self.colnames, axis=1)\n",
        "        return X"
      ],
      "metadata": {
        "id": "k3VpXnbOBdrn"
      },
      "execution_count": 111,
      "outputs": []
    },
    {
      "cell_type": "code",
      "source": [
        "kfoldtrain = KFoldTargetEncoderTrain('reserved_room_type', 'leadtime')  \n",
        "kfoldtrain.fit_transform(df_train)\n",
        "kfoldtrain.fit_transform(df_test)  #when you have a target in your test data "
      ],
      "metadata": {
        "colab": {
          "base_uri": "https://localhost:8080/",
          "height": 424
        },
        "id": "4Q8nHk8YDEwH",
        "outputId": "3cb84028-f89e-4e50-e5db-e212cc0a971c"
      },
      "execution_count": 112,
      "outputs": [
        {
          "output_type": "execute_result",
          "data": {
            "text/plain": [
              "        leadtime  reserved_room_type_Kfold_Target_Enc\n",
              "95567         79                            91.454545\n",
              "14986        166                           110.823872\n",
              "59011        468                           110.823872\n",
              "59292         21                           110.823872\n",
              "38506         35                            70.262626\n",
              "...          ...                                  ...\n",
              "12315        331                           110.823872\n",
              "86073          5                            86.265670\n",
              "12827         39                           111.634466\n",
              "115423        10                           111.634466\n",
              "25924        100                            92.749755\n",
              "\n",
              "[23875 rows x 2 columns]"
            ],
            "text/html": [
              "\n",
              "  <div id=\"df-aeef6ab5-6369-4e69-aa84-82b6cc7e835b\">\n",
              "    <div class=\"colab-df-container\">\n",
              "      <div>\n",
              "<style scoped>\n",
              "    .dataframe tbody tr th:only-of-type {\n",
              "        vertical-align: middle;\n",
              "    }\n",
              "\n",
              "    .dataframe tbody tr th {\n",
              "        vertical-align: top;\n",
              "    }\n",
              "\n",
              "    .dataframe thead th {\n",
              "        text-align: right;\n",
              "    }\n",
              "</style>\n",
              "<table border=\"1\" class=\"dataframe\">\n",
              "  <thead>\n",
              "    <tr style=\"text-align: right;\">\n",
              "      <th></th>\n",
              "      <th>leadtime</th>\n",
              "      <th>reserved_room_type_Kfold_Target_Enc</th>\n",
              "    </tr>\n",
              "  </thead>\n",
              "  <tbody>\n",
              "    <tr>\n",
              "      <th>95567</th>\n",
              "      <td>79</td>\n",
              "      <td>91.454545</td>\n",
              "    </tr>\n",
              "    <tr>\n",
              "      <th>14986</th>\n",
              "      <td>166</td>\n",
              "      <td>110.823872</td>\n",
              "    </tr>\n",
              "    <tr>\n",
              "      <th>59011</th>\n",
              "      <td>468</td>\n",
              "      <td>110.823872</td>\n",
              "    </tr>\n",
              "    <tr>\n",
              "      <th>59292</th>\n",
              "      <td>21</td>\n",
              "      <td>110.823872</td>\n",
              "    </tr>\n",
              "    <tr>\n",
              "      <th>38506</th>\n",
              "      <td>35</td>\n",
              "      <td>70.262626</td>\n",
              "    </tr>\n",
              "    <tr>\n",
              "      <th>...</th>\n",
              "      <td>...</td>\n",
              "      <td>...</td>\n",
              "    </tr>\n",
              "    <tr>\n",
              "      <th>12315</th>\n",
              "      <td>331</td>\n",
              "      <td>110.823872</td>\n",
              "    </tr>\n",
              "    <tr>\n",
              "      <th>86073</th>\n",
              "      <td>5</td>\n",
              "      <td>86.265670</td>\n",
              "    </tr>\n",
              "    <tr>\n",
              "      <th>12827</th>\n",
              "      <td>39</td>\n",
              "      <td>111.634466</td>\n",
              "    </tr>\n",
              "    <tr>\n",
              "      <th>115423</th>\n",
              "      <td>10</td>\n",
              "      <td>111.634466</td>\n",
              "    </tr>\n",
              "    <tr>\n",
              "      <th>25924</th>\n",
              "      <td>100</td>\n",
              "      <td>92.749755</td>\n",
              "    </tr>\n",
              "  </tbody>\n",
              "</table>\n",
              "<p>23875 rows × 2 columns</p>\n",
              "</div>\n",
              "      <button class=\"colab-df-convert\" onclick=\"convertToInteractive('df-aeef6ab5-6369-4e69-aa84-82b6cc7e835b')\"\n",
              "              title=\"Convert this dataframe to an interactive table.\"\n",
              "              style=\"display:none;\">\n",
              "        \n",
              "  <svg xmlns=\"http://www.w3.org/2000/svg\" height=\"24px\"viewBox=\"0 0 24 24\"\n",
              "       width=\"24px\">\n",
              "    <path d=\"M0 0h24v24H0V0z\" fill=\"none\"/>\n",
              "    <path d=\"M18.56 5.44l.94 2.06.94-2.06 2.06-.94-2.06-.94-.94-2.06-.94 2.06-2.06.94zm-11 1L8.5 8.5l.94-2.06 2.06-.94-2.06-.94L8.5 2.5l-.94 2.06-2.06.94zm10 10l.94 2.06.94-2.06 2.06-.94-2.06-.94-.94-2.06-.94 2.06-2.06.94z\"/><path d=\"M17.41 7.96l-1.37-1.37c-.4-.4-.92-.59-1.43-.59-.52 0-1.04.2-1.43.59L10.3 9.45l-7.72 7.72c-.78.78-.78 2.05 0 2.83L4 21.41c.39.39.9.59 1.41.59.51 0 1.02-.2 1.41-.59l7.78-7.78 2.81-2.81c.8-.78.8-2.07 0-2.86zM5.41 20L4 18.59l7.72-7.72 1.47 1.35L5.41 20z\"/>\n",
              "  </svg>\n",
              "      </button>\n",
              "      \n",
              "  <style>\n",
              "    .colab-df-container {\n",
              "      display:flex;\n",
              "      flex-wrap:wrap;\n",
              "      gap: 12px;\n",
              "    }\n",
              "\n",
              "    .colab-df-convert {\n",
              "      background-color: #E8F0FE;\n",
              "      border: none;\n",
              "      border-radius: 50%;\n",
              "      cursor: pointer;\n",
              "      display: none;\n",
              "      fill: #1967D2;\n",
              "      height: 32px;\n",
              "      padding: 0 0 0 0;\n",
              "      width: 32px;\n",
              "    }\n",
              "\n",
              "    .colab-df-convert:hover {\n",
              "      background-color: #E2EBFA;\n",
              "      box-shadow: 0px 1px 2px rgba(60, 64, 67, 0.3), 0px 1px 3px 1px rgba(60, 64, 67, 0.15);\n",
              "      fill: #174EA6;\n",
              "    }\n",
              "\n",
              "    [theme=dark] .colab-df-convert {\n",
              "      background-color: #3B4455;\n",
              "      fill: #D2E3FC;\n",
              "    }\n",
              "\n",
              "    [theme=dark] .colab-df-convert:hover {\n",
              "      background-color: #434B5C;\n",
              "      box-shadow: 0px 1px 3px 1px rgba(0, 0, 0, 0.15);\n",
              "      filter: drop-shadow(0px 1px 2px rgba(0, 0, 0, 0.3));\n",
              "      fill: #FFFFFF;\n",
              "    }\n",
              "  </style>\n",
              "\n",
              "      <script>\n",
              "        const buttonEl =\n",
              "          document.querySelector('#df-aeef6ab5-6369-4e69-aa84-82b6cc7e835b button.colab-df-convert');\n",
              "        buttonEl.style.display =\n",
              "          google.colab.kernel.accessAllowed ? 'block' : 'none';\n",
              "\n",
              "        async function convertToInteractive(key) {\n",
              "          const element = document.querySelector('#df-aeef6ab5-6369-4e69-aa84-82b6cc7e835b');\n",
              "          const dataTable =\n",
              "            await google.colab.kernel.invokeFunction('convertToInteractive',\n",
              "                                                     [key], {});\n",
              "          if (!dataTable) return;\n",
              "\n",
              "          const docLinkHtml = 'Like what you see? Visit the ' +\n",
              "            '<a target=\"_blank\" href=https://colab.research.google.com/notebooks/data_table.ipynb>data table notebook</a>'\n",
              "            + ' to learn more about interactive tables.';\n",
              "          element.innerHTML = '';\n",
              "          dataTable['output_type'] = 'display_data';\n",
              "          await google.colab.output.renderOutput(dataTable, element);\n",
              "          const docLink = document.createElement('div');\n",
              "          docLink.innerHTML = docLinkHtml;\n",
              "          element.appendChild(docLink);\n",
              "        }\n",
              "      </script>\n",
              "    </div>\n",
              "  </div>\n",
              "  "
            ]
          },
          "metadata": {},
          "execution_count": 112
        }
      ]
    },
    {
      "cell_type": "code",
      "source": [
        "class KFoldTargetEncoderTest(base.BaseEstimator, base.TransformerMixin): \n",
        "    \n",
        "    def __init__(self,train,colNames,encodedName):\n",
        "        self.train = train\n",
        "        self.colNames = colNames\n",
        "        self.encodedName = encodedName\n",
        "        \n",
        "    def fit(self, X, y=None):\n",
        "        return self\n",
        "\n",
        "    def transform(self,X):\n",
        "        mean = self.train[[self.colNames,self.encodedName]].groupby(self.colNames).mean().reset_index() \n",
        "        dd = {}\n",
        "        for index, row in mean.iterrows():\n",
        "            dd[row[self.colNames]] = row[self.encodedName]\n",
        "\n",
        "        X[self.encodedName] = X[self.colNames]\n",
        "        X.replace({self.encodedName: dd}, inplace=True)\n",
        "        return X"
      ],
      "metadata": {
        "id": "8R5kJfKmnJpo"
      },
      "execution_count": 113,
      "outputs": []
    },
    {
      "cell_type": "code",
      "source": [
        "df_test_no_target = deepcopy(df_test) #when you have no target in your test data\n",
        "df_test_no_target.drop('reserved_room_type_Kfold_Target_Enc', axis=1, inplace=True)"
      ],
      "metadata": {
        "id": "xw04S_2urw9b"
      },
      "execution_count": 114,
      "outputs": []
    },
    {
      "cell_type": "code",
      "source": [
        "test_targetc = KFoldTargetEncoderTest(df_train, 'reserved_room_type', 'reserved_room_type_Kfold_Target_Enc')\n",
        "test_targetc.fit_transform(df_test_no_target)  "
      ],
      "metadata": {
        "colab": {
          "base_uri": "https://localhost:8080/",
          "height": 424
        },
        "id": "OtuUwMGmrHHM",
        "outputId": "62269cc4-9da2-43ee-ff37-2beab119495f"
      },
      "execution_count": 115,
      "outputs": [
        {
          "output_type": "execute_result",
          "data": {
            "text/plain": [
              "       reserved_room_type  leadtime  reserved_room_type_Kfold_Target_Enc\n",
              "95567                   E        79                            91.030262\n",
              "14986                   A       166                           110.964252\n",
              "59011                   A       468                           110.964252\n",
              "59292                   A        21                           110.964252\n",
              "38506                   F        35                            68.019858\n",
              "...                   ...       ...                                  ...\n",
              "12315                   A       331                           110.964252\n",
              "86073                   D         5                            86.763323\n",
              "12827                   A        39                           110.964252\n",
              "115423                  A        10                           110.964252\n",
              "25924                   E       100                            91.030262\n",
              "\n",
              "[23875 rows x 3 columns]"
            ],
            "text/html": [
              "\n",
              "  <div id=\"df-87667f66-4546-40f1-8bf8-9e2e7ed8c349\">\n",
              "    <div class=\"colab-df-container\">\n",
              "      <div>\n",
              "<style scoped>\n",
              "    .dataframe tbody tr th:only-of-type {\n",
              "        vertical-align: middle;\n",
              "    }\n",
              "\n",
              "    .dataframe tbody tr th {\n",
              "        vertical-align: top;\n",
              "    }\n",
              "\n",
              "    .dataframe thead th {\n",
              "        text-align: right;\n",
              "    }\n",
              "</style>\n",
              "<table border=\"1\" class=\"dataframe\">\n",
              "  <thead>\n",
              "    <tr style=\"text-align: right;\">\n",
              "      <th></th>\n",
              "      <th>reserved_room_type</th>\n",
              "      <th>leadtime</th>\n",
              "      <th>reserved_room_type_Kfold_Target_Enc</th>\n",
              "    </tr>\n",
              "  </thead>\n",
              "  <tbody>\n",
              "    <tr>\n",
              "      <th>95567</th>\n",
              "      <td>E</td>\n",
              "      <td>79</td>\n",
              "      <td>91.030262</td>\n",
              "    </tr>\n",
              "    <tr>\n",
              "      <th>14986</th>\n",
              "      <td>A</td>\n",
              "      <td>166</td>\n",
              "      <td>110.964252</td>\n",
              "    </tr>\n",
              "    <tr>\n",
              "      <th>59011</th>\n",
              "      <td>A</td>\n",
              "      <td>468</td>\n",
              "      <td>110.964252</td>\n",
              "    </tr>\n",
              "    <tr>\n",
              "      <th>59292</th>\n",
              "      <td>A</td>\n",
              "      <td>21</td>\n",
              "      <td>110.964252</td>\n",
              "    </tr>\n",
              "    <tr>\n",
              "      <th>38506</th>\n",
              "      <td>F</td>\n",
              "      <td>35</td>\n",
              "      <td>68.019858</td>\n",
              "    </tr>\n",
              "    <tr>\n",
              "      <th>...</th>\n",
              "      <td>...</td>\n",
              "      <td>...</td>\n",
              "      <td>...</td>\n",
              "    </tr>\n",
              "    <tr>\n",
              "      <th>12315</th>\n",
              "      <td>A</td>\n",
              "      <td>331</td>\n",
              "      <td>110.964252</td>\n",
              "    </tr>\n",
              "    <tr>\n",
              "      <th>86073</th>\n",
              "      <td>D</td>\n",
              "      <td>5</td>\n",
              "      <td>86.763323</td>\n",
              "    </tr>\n",
              "    <tr>\n",
              "      <th>12827</th>\n",
              "      <td>A</td>\n",
              "      <td>39</td>\n",
              "      <td>110.964252</td>\n",
              "    </tr>\n",
              "    <tr>\n",
              "      <th>115423</th>\n",
              "      <td>A</td>\n",
              "      <td>10</td>\n",
              "      <td>110.964252</td>\n",
              "    </tr>\n",
              "    <tr>\n",
              "      <th>25924</th>\n",
              "      <td>E</td>\n",
              "      <td>100</td>\n",
              "      <td>91.030262</td>\n",
              "    </tr>\n",
              "  </tbody>\n",
              "</table>\n",
              "<p>23875 rows × 3 columns</p>\n",
              "</div>\n",
              "      <button class=\"colab-df-convert\" onclick=\"convertToInteractive('df-87667f66-4546-40f1-8bf8-9e2e7ed8c349')\"\n",
              "              title=\"Convert this dataframe to an interactive table.\"\n",
              "              style=\"display:none;\">\n",
              "        \n",
              "  <svg xmlns=\"http://www.w3.org/2000/svg\" height=\"24px\"viewBox=\"0 0 24 24\"\n",
              "       width=\"24px\">\n",
              "    <path d=\"M0 0h24v24H0V0z\" fill=\"none\"/>\n",
              "    <path d=\"M18.56 5.44l.94 2.06.94-2.06 2.06-.94-2.06-.94-.94-2.06-.94 2.06-2.06.94zm-11 1L8.5 8.5l.94-2.06 2.06-.94-2.06-.94L8.5 2.5l-.94 2.06-2.06.94zm10 10l.94 2.06.94-2.06 2.06-.94-2.06-.94-.94-2.06-.94 2.06-2.06.94z\"/><path d=\"M17.41 7.96l-1.37-1.37c-.4-.4-.92-.59-1.43-.59-.52 0-1.04.2-1.43.59L10.3 9.45l-7.72 7.72c-.78.78-.78 2.05 0 2.83L4 21.41c.39.39.9.59 1.41.59.51 0 1.02-.2 1.41-.59l7.78-7.78 2.81-2.81c.8-.78.8-2.07 0-2.86zM5.41 20L4 18.59l7.72-7.72 1.47 1.35L5.41 20z\"/>\n",
              "  </svg>\n",
              "      </button>\n",
              "      \n",
              "  <style>\n",
              "    .colab-df-container {\n",
              "      display:flex;\n",
              "      flex-wrap:wrap;\n",
              "      gap: 12px;\n",
              "    }\n",
              "\n",
              "    .colab-df-convert {\n",
              "      background-color: #E8F0FE;\n",
              "      border: none;\n",
              "      border-radius: 50%;\n",
              "      cursor: pointer;\n",
              "      display: none;\n",
              "      fill: #1967D2;\n",
              "      height: 32px;\n",
              "      padding: 0 0 0 0;\n",
              "      width: 32px;\n",
              "    }\n",
              "\n",
              "    .colab-df-convert:hover {\n",
              "      background-color: #E2EBFA;\n",
              "      box-shadow: 0px 1px 2px rgba(60, 64, 67, 0.3), 0px 1px 3px 1px rgba(60, 64, 67, 0.15);\n",
              "      fill: #174EA6;\n",
              "    }\n",
              "\n",
              "    [theme=dark] .colab-df-convert {\n",
              "      background-color: #3B4455;\n",
              "      fill: #D2E3FC;\n",
              "    }\n",
              "\n",
              "    [theme=dark] .colab-df-convert:hover {\n",
              "      background-color: #434B5C;\n",
              "      box-shadow: 0px 1px 3px 1px rgba(0, 0, 0, 0.15);\n",
              "      filter: drop-shadow(0px 1px 2px rgba(0, 0, 0, 0.3));\n",
              "      fill: #FFFFFF;\n",
              "    }\n",
              "  </style>\n",
              "\n",
              "      <script>\n",
              "        const buttonEl =\n",
              "          document.querySelector('#df-87667f66-4546-40f1-8bf8-9e2e7ed8c349 button.colab-df-convert');\n",
              "        buttonEl.style.display =\n",
              "          google.colab.kernel.accessAllowed ? 'block' : 'none';\n",
              "\n",
              "        async function convertToInteractive(key) {\n",
              "          const element = document.querySelector('#df-87667f66-4546-40f1-8bf8-9e2e7ed8c349');\n",
              "          const dataTable =\n",
              "            await google.colab.kernel.invokeFunction('convertToInteractive',\n",
              "                                                     [key], {});\n",
              "          if (!dataTable) return;\n",
              "\n",
              "          const docLinkHtml = 'Like what you see? Visit the ' +\n",
              "            '<a target=\"_blank\" href=https://colab.research.google.com/notebooks/data_table.ipynb>data table notebook</a>'\n",
              "            + ' to learn more about interactive tables.';\n",
              "          element.innerHTML = '';\n",
              "          dataTable['output_type'] = 'display_data';\n",
              "          await google.colab.output.renderOutput(dataTable, element);\n",
              "          const docLink = document.createElement('div');\n",
              "          docLink.innerHTML = docLinkHtml;\n",
              "          element.appendChild(docLink);\n",
              "        }\n",
              "      </script>\n",
              "    </div>\n",
              "  </div>\n",
              "  "
            ]
          },
          "metadata": {},
          "execution_count": 115
        }
      ]
    },
    {
      "cell_type": "code",
      "source": [
        "display(df_test['reserved_room_type_Kfold_Target_Enc'].nunique(),\n",
        "df_test_no_target['reserved_room_type_Kfold_Target_Enc'].nunique()) "
      ],
      "metadata": {
        "colab": {
          "base_uri": "https://localhost:8080/",
          "height": 52
        },
        "id": "YaoZLzXTr-5S",
        "outputId": "c2a7bf11-292d-4a1e-9207-c5b244cb0d22"
      },
      "execution_count": 116,
      "outputs": [
        {
          "output_type": "display_data",
          "data": {
            "text/plain": [
              "40"
            ]
          },
          "metadata": {}
        },
        {
          "output_type": "display_data",
          "data": {
            "text/plain": [
              "8"
            ]
          },
          "metadata": {}
        }
      ]
    },
    {
      "cell_type": "code",
      "source": [
        "df_test['leadtime'].corr(df_test['reserved_room_type_Kfold_Target_Enc']) \n",
        "#the encoded feature still has a weak correlation to the target "
      ],
      "metadata": {
        "colab": {
          "base_uri": "https://localhost:8080/"
        },
        "id": "jXViQDh_sbp_",
        "outputId": "ed734f90-f94c-4898-9108-d9a898120225"
      },
      "execution_count": 145,
      "outputs": [
        {
          "output_type": "execute_result",
          "data": {
            "text/plain": [
              "0.10612235026305805"
            ]
          },
          "metadata": {},
          "execution_count": 145
        }
      ]
    },
    {
      "cell_type": "code",
      "source": [
        "df_train['leadtime'].corr(df_train['reserved_room_type_Kfold_Target_Enc'])"
      ],
      "metadata": {
        "colab": {
          "base_uri": "https://localhost:8080/"
        },
        "id": "g3_T8jT0sz1x",
        "outputId": "e143e8b3-4dd6-494e-d837-067b0b74186b"
      },
      "execution_count": 139,
      "outputs": [
        {
          "output_type": "execute_result",
          "data": {
            "text/plain": [
              "0.11084739825075945"
            ]
          },
          "metadata": {},
          "execution_count": 139
        }
      ]
    },
    {
      "cell_type": "code",
      "source": [
        "df_test_no_target['leadtime'].corr(df_test_no_target['reserved_room_type_Kfold_Target_Enc'])"
      ],
      "metadata": {
        "colab": {
          "base_uri": "https://localhost:8080/"
        },
        "id": "Jdoc3ur1s5Sy",
        "outputId": "2f7e3306-528e-41fc-a902-69180ef57c6f"
      },
      "execution_count": 102,
      "outputs": [
        {
          "output_type": "execute_result",
          "data": {
            "text/plain": [
              "0.10802410935970537"
            ]
          },
          "metadata": {},
          "execution_count": 102
        }
      ]
    },
    {
      "cell_type": "code",
      "source": [
        "import seaborn as sns\n",
        "import matplotlib.pyplot as plt\n",
        "from statsmodels.formula.api import ols\n",
        "from statsmodels.graphics.gofplots import qqplot\n",
        "fig = qqplot(df_test_no_target['reserved_room_type_Kfold_Target_Enc'], line = '45', fit=True)\n",
        "ax = plt.gca()   \n",
        "fig.set_size_inches(15, 8) \n",
        "plt.show() #Distribution of newly target encoded feature"
      ],
      "metadata": {
        "colab": {
          "base_uri": "https://localhost:8080/",
          "height": 497
        },
        "id": "jlgV04-n7gkI",
        "outputId": "c3a7f478-355e-4666-c0f7-b091f00ab711"
      },
      "execution_count": 132,
      "outputs": [
        {
          "output_type": "display_data",
          "data": {
            "text/plain": [
              "<Figure size 1080x576 with 1 Axes>"
            ],
            "image/png": "[encoded data removed]"
          },
          "metadata": {
            "needs_background": "light"
          }
        }
      ]
    },
    {
      "cell_type": "code",
      "source": [
        "class handle_vif():\n",
        "    \n",
        "    def __init__(self, data):\n",
        "        self.data = data\n",
        "        \n",
        "    def compute_vif(self, considered_features: list):\n",
        "        self.considered_features = considered_features\n",
        "        X = self.data[self.considered_features]\n",
        "        X['intercept'] = 1\n",
        "        \n",
        "        self.vif = pd.DataFrame()\n",
        "        self.vif[\"Variable\"] = X.columns\n",
        "        self.vif[\"VIF\"] = [variance_inflation_factor(X.values, i) for i in range(X.shape[1])]\n",
        "        self.vif = self.vif[self.vif['Variable']!='intercept']\n",
        "        return self.vif\n",
        "    \n",
        "    def drop_high_vif(self):\n",
        "        self.vif_table = self.vif.sort_values(by='VIF', ascending=False).reset_index(drop=True) \n",
        "    \n",
        "        while self.vif_table['VIF'].iloc[0]>5:\n",
        "            self.data.drop(self.vif_table['Variable'][0], axis=1, inplace=True)\n",
        "            computed = compute_vif([col for col in self.data.columns]) \n",
        "            self.vif_table = computed.sort_values(by='VIF', ascending=False).reset_index(drop=True) \n",
        "\n",
        "        return self.data.head()  "
      ],
      "metadata": {
        "id": "ln4BfzGfBAil"
      },
      "execution_count": 140,
      "outputs": []
    },
    {
      "cell_type": "code",
      "source": [
        "from statsmodels.stats.outliers_influence import variance_inflation_factor"
      ],
      "metadata": {
        "id": "3Rs9CEXVBht-"
      },
      "execution_count": 143,
      "outputs": []
    },
    {
      "cell_type": "code",
      "source": [
        "vif = handle_vif(df_train) \n",
        "vif.compute_vif(['reserved_room_type_Kfold_Target_Enc', 'leadtime']) #checking variance inflation factor  "
      ],
      "metadata": {
        "colab": {
          "base_uri": "https://localhost:8080/",
          "height": 112
        },
        "id": "EvbGtY8SBCek",
        "outputId": "11ed1810-0d7e-4462-d598-2e99a8b0725c"
      },
      "execution_count": 144,
      "outputs": [
        {
          "output_type": "execute_result",
          "data": {
            "text/plain": [
              "                              Variable      VIF\n",
              "0  reserved_room_type_Kfold_Target_Enc  1.01244\n",
              "1                             leadtime  1.01244"
            ],
            "text/html": [
              "\n",
              "  <div id=\"df-59d2ad19-d9dc-4c0f-9f6e-745f3e6e67f4\">\n",
              "    <div class=\"colab-df-container\">\n",
              "      <div>\n",
              "<style scoped>\n",
              "    .dataframe tbody tr th:only-of-type {\n",
              "        vertical-align: middle;\n",
              "    }\n",
              "\n",
              "    .dataframe tbody tr th {\n",
              "        vertical-align: top;\n",
              "    }\n",
              "\n",
              "    .dataframe thead th {\n",
              "        text-align: right;\n",
              "    }\n",
              "</style>\n",
              "<table border=\"1\" class=\"dataframe\">\n",
              "  <thead>\n",
              "    <tr style=\"text-align: right;\">\n",
              "      <th></th>\n",
              "      <th>Variable</th>\n",
              "      <th>VIF</th>\n",
              "    </tr>\n",
              "  </thead>\n",
              "  <tbody>\n",
              "    <tr>\n",
              "      <th>0</th>\n",
              "      <td>reserved_room_type_Kfold_Target_Enc</td>\n",
              "      <td>1.01244</td>\n",
              "    </tr>\n",
              "    <tr>\n",
              "      <th>1</th>\n",
              "      <td>leadtime</td>\n",
              "      <td>1.01244</td>\n",
              "    </tr>\n",
              "  </tbody>\n",
              "</table>\n",
              "</div>\n",
              "      <button class=\"colab-df-convert\" onclick=\"convertToInteractive('df-59d2ad19-d9dc-4c0f-9f6e-745f3e6e67f4')\"\n",
              "              title=\"Convert this dataframe to an interactive table.\"\n",
              "              style=\"display:none;\">\n",
              "        \n",
              "  <svg xmlns=\"http://www.w3.org/2000/svg\" height=\"24px\"viewBox=\"0 0 24 24\"\n",
              "       width=\"24px\">\n",
              "    <path d=\"M0 0h24v24H0V0z\" fill=\"none\"/>\n",
              "    <path d=\"M18.56 5.44l.94 2.06.94-2.06 2.06-.94-2.06-.94-.94-2.06-.94 2.06-2.06.94zm-11 1L8.5 8.5l.94-2.06 2.06-.94-2.06-.94L8.5 2.5l-.94 2.06-2.06.94zm10 10l.94 2.06.94-2.06 2.06-.94-2.06-.94-.94-2.06-.94 2.06-2.06.94z\"/><path d=\"M17.41 7.96l-1.37-1.37c-.4-.4-.92-.59-1.43-.59-.52 0-1.04.2-1.43.59L10.3 9.45l-7.72 7.72c-.78.78-.78 2.05 0 2.83L4 21.41c.39.39.9.59 1.41.59.51 0 1.02-.2 1.41-.59l7.78-7.78 2.81-2.81c.8-.78.8-2.07 0-2.86zM5.41 20L4 18.59l7.72-7.72 1.47 1.35L5.41 20z\"/>\n",
              "  </svg>\n",
              "      </button>\n",
              "      \n",
              "  <style>\n",
              "    .colab-df-container {\n",
              "      display:flex;\n",
              "      flex-wrap:wrap;\n",
              "      gap: 12px;\n",
              "    }\n",
              "\n",
              "    .colab-df-convert {\n",
              "      background-color: #E8F0FE;\n",
              "      border: none;\n",
              "      border-radius: 50%;\n",
              "      cursor: pointer;\n",
              "      display: none;\n",
              "      fill: #1967D2;\n",
              "      height: 32px;\n",
              "      padding: 0 0 0 0;\n",
              "      width: 32px;\n",
              "    }\n",
              "\n",
              "    .colab-df-convert:hover {\n",
              "      background-color: #E2EBFA;\n",
              "      box-shadow: 0px 1px 2px rgba(60, 64, 67, 0.3), 0px 1px 3px 1px rgba(60, 64, 67, 0.15);\n",
              "      fill: #174EA6;\n",
              "    }\n",
              "\n",
              "    [theme=dark] .colab-df-convert {\n",
              "      background-color: #3B4455;\n",
              "      fill: #D2E3FC;\n",
              "    }\n",
              "\n",
              "    [theme=dark] .colab-df-convert:hover {\n",
              "      background-color: #434B5C;\n",
              "      box-shadow: 0px 1px 3px 1px rgba(0, 0, 0, 0.15);\n",
              "      filter: drop-shadow(0px 1px 2px rgba(0, 0, 0, 0.3));\n",
              "      fill: #FFFFFF;\n",
              "    }\n",
              "  </style>\n",
              "\n",
              "      <script>\n",
              "        const buttonEl =\n",
              "          document.querySelector('#df-59d2ad19-d9dc-4c0f-9f6e-745f3e6e67f4 button.colab-df-convert');\n",
              "        buttonEl.style.display =\n",
              "          google.colab.kernel.accessAllowed ? 'block' : 'none';\n",
              "\n",
              "        async function convertToInteractive(key) {\n",
              "          const element = document.querySelector('#df-59d2ad19-d9dc-4c0f-9f6e-745f3e6e67f4');\n",
              "          const dataTable =\n",
              "            await google.colab.kernel.invokeFunction('convertToInteractive',\n",
              "                                                     [key], {});\n",
              "          if (!dataTable) return;\n",
              "\n",
              "          const docLinkHtml = 'Like what you see? Visit the ' +\n",
              "            '<a target=\"_blank\" href=https://colab.research.google.com/notebooks/data_table.ipynb>data table notebook</a>'\n",
              "            + ' to learn more about interactive tables.';\n",
              "          element.innerHTML = '';\n",
              "          dataTable['output_type'] = 'display_data';\n",
              "          await google.colab.output.renderOutput(dataTable, element);\n",
              "          const docLink = document.createElement('div');\n",
              "          docLink.innerHTML = docLinkHtml;\n",
              "          element.appendChild(docLink);\n",
              "        }\n",
              "      </script>\n",
              "    </div>\n",
              "  </div>\n",
              "  "
            ]
          },
          "metadata": {},
          "execution_count": 144
        }
      ]
    }
  ]
}